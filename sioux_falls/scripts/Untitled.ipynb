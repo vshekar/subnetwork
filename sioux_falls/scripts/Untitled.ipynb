{
 "cells": [
  {
   "cell_type": "code",
   "execution_count": 2,
   "source": [
    "import matplotlib.pyplot as plt\n"
   ],
   "outputs": [],
   "metadata": {}
  },
  {
   "cell_type": "code",
   "execution_count": 3,
   "source": [
    "speedup = [3.5, 2.8, 2.2, 1.85, 1.75, 1.65, 1.6, 1.4, 1.35, 1.20, 1.09, 1.0]\n",
    "plt.plot([i+1 for i in range(len(speedup))], speedup)\n",
    "plt.grid(b=True)"
   ],
   "outputs": [],
   "metadata": {}
  },
  {
   "cell_type": "code",
   "execution_count": 4,
   "source": [
    "corr = [0.22, 0.52, 0.53, 0.54, 0.55, 0.7, 0.81, 0.89, 0.9, 0.93, 1.0, 1.0]\n",
    "corr30 = [0.35, 0.65, 0.71, 0.73, 0.74, 0.78, 0.82, 0.89, 0.9, 0.91, 1.0, 1.0]\n",
    "plt.plot([i+1 for i in range(len(corr))], corr)\n",
    "plt.plot([i+1 for i in range(len(corr))], corr30)\n",
    "plt.grid(b=True)"
   ],
   "outputs": [],
   "metadata": {}
  },
  {
   "cell_type": "code",
   "execution_count": 5,
   "source": [
    "fig, ax1 = plt.subplots()\n",
    "ax1.plot([i+1 for i in range(len(corr))], corr)\n",
    "ax1.plot([i+1 for i in range(len(corr))], corr30)\n",
    "ax1.set_ylabel('Correlation')\n",
    "ax1.set_xlabel('Subnetwork size ($\\lambda$)')\n",
    "ax1.legend(['Correlation', 'Correlation of Top 30'], bbox_to_anchor=(0,1.02, 1, 0.2), loc=\"lower left\")\n",
    "\n",
    "ax2 = ax1.twinx()\n",
    "ax2.plot([i+1 for i in range(len(speedup))], speedup, 'g-')\n",
    "ax2.set_ylabel('Speedup')\n",
    "ax2.legend(['Run time speedup'], bbox_to_anchor=(0.6,1.02, 1, 0.2), loc=\"lower left\")\n",
    "\n",
    "plt.grid(b=True)\n",
    "plt.savefig('corr_runtime.png')"
   ],
   "outputs": [],
   "metadata": {}
  },
  {
   "cell_type": "code",
   "execution_count": 30,
   "source": [
    "from xml.etree import ElementTree as ET\n",
    "\n"
   ],
   "outputs": [],
   "metadata": {}
  },
  {
   "cell_type": "code",
   "execution_count": 65,
   "source": [
    "from collections import defaultdict\n",
    "import numpy as np\n",
    "\n",
    "def process_route(element, depart, veh_id):\n",
    "    if element.tag == 'route' and 'exitTimes' in element.keys():\n",
    "        depart = float(depart)\n",
    "        edges = [edge.split('_')[0] for edge in element.get('edges').split(' ')]\n",
    "        exit_times = np.array([depart] + [float(t) for t in element.get('exitTimes').split(' ')])\n",
    "        travel_times = np.diff(exit_times)\n",
    "        if len(edges) != len(travel_times):\n",
    "            #print('Somethings wrong!')\n",
    "            print(veh_id)\n",
    "        return dict(zip(edges, travel_times))\n",
    "#tree = ET.parse('../output/net_dump/vehroutes100.xml')\n",
    "#traveltime_1_1_0_10_9_False.json\n",
    "tree = ET.parse('../output/net_dump/lmbd9/traveltime_1_1_0_10_9_False.json.xml')\n",
    "root = tree.getroot()\n",
    "\n",
    "nominal_tt = defaultdict(dict)\n",
    "counts = defaultdict(int)\n",
    "for veh in root:\n",
    "    depart = veh.get('depart')\n",
    "    counts[veh.tag] += 1\n",
    "    for el in list(veh):\n",
    "        counts[el.tag] += 1\n",
    "        if el.tag == 'routeDistribution':\n",
    "            for e in list(el):\n",
    "                nominal_tt[veh.get('id')] =  process_route(e, depart, veh.get('id'))\n",
    "        else:\n",
    "            nominal_tt[veh.get('id')] = process_route(el, depart, veh.get('id'))\n",
    "        \n"
   ],
   "outputs": [
    {
     "output_type": "stream",
     "name": "stdout",
     "text": [
      "27642\n",
      "51490\n",
      "53432\n",
      "53156\n",
      "46440\n",
      "31867\n",
      "54722\n",
      "52714\n",
      "43357\n",
      "44996\n",
      "53587\n",
      "50004\n",
      "52600\n",
      "53724\n",
      "42974\n",
      "53906\n",
      "46110\n",
      "46282\n",
      "46310\n",
      "44707\n",
      "32407\n",
      "55102\n",
      "53562\n",
      "49870\n",
      "49674\n",
      "51540\n",
      "51264\n",
      "47054\n",
      "51912\n",
      "46374\n",
      "47534\n",
      "47796\n",
      "50742\n",
      "53934\n",
      "52500\n",
      "48114\n",
      "52760\n",
      "34004\n",
      "54579\n",
      "43574\n",
      "51857\n",
      "54854\n",
      "50942\n",
      "54210\n",
      "47896\n",
      "47292\n",
      "46594\n",
      "50067\n",
      "46949\n",
      "35206\n",
      "50180\n",
      "55116\n",
      "54697\n",
      "52612\n",
      "29547\n",
      "35072\n",
      "49206\n",
      "34427\n",
      "53392\n",
      "47154\n",
      "46490\n",
      "54542\n",
      "54887\n",
      "50014\n",
      "52630\n",
      "52322\n",
      "50114\n",
      "53526\n",
      "49017\n",
      "50117\n",
      "48794\n",
      "32449\n",
      "54619\n",
      "54069\n",
      "54197\n",
      "46982\n",
      "52259\n",
      "53959\n",
      "54016\n",
      "27399\n",
      "53487\n",
      "53600\n",
      "46599\n",
      "51664\n",
      "49752\n",
      "54060\n",
      "50650\n",
      "54710\n",
      "48507\n",
      "53884\n",
      "34227\n",
      "19124\n",
      "50227\n",
      "19224\n",
      "49004\n",
      "50269\n",
      "47750\n",
      "49979\n",
      "49476\n",
      "46116\n",
      "48446\n",
      "49228\n",
      "46202\n",
      "54230\n",
      "34142\n",
      "49760\n",
      "49287\n",
      "50512\n",
      "48807\n",
      "51472\n",
      "49371\n",
      "46507\n",
      "51887\n",
      "47550\n",
      "51504\n",
      "47768\n",
      "50594\n",
      "51760\n",
      "46477\n",
      "47517\n",
      "47809\n",
      "45687\n",
      "39216\n",
      "34969\n",
      "34767\n",
      "46449\n",
      "50216\n",
      "52764\n",
      "48339\n",
      "51044\n",
      "53857\n",
      "39112\n",
      "52866\n",
      "53019\n",
      "47664\n",
      "47099\n",
      "55017\n",
      "50324\n",
      "47450\n",
      "50620\n",
      "34240\n",
      "50064\n",
      "53417\n",
      "49542\n",
      "45757\n",
      "51676\n",
      "49560\n",
      "49282\n",
      "37087\n",
      "41276\n",
      "25694\n",
      "50801\n",
      "49222\n",
      "52680\n",
      "21207\n",
      "52129\n",
      "46240\n",
      "48513\n",
      "43029\n",
      "47730\n",
      "35119\n",
      "46694\n",
      "23266\n",
      "46340\n",
      "50100\n",
      "48689\n",
      "50056\n",
      "48272\n",
      "23296\n",
      "38989\n",
      "48122\n",
      "34910\n",
      "49990\n",
      "51909\n",
      "39637\n",
      "20429\n",
      "49434\n",
      "52567\n",
      "46407\n",
      "52012\n",
      "48264\n",
      "46780\n",
      "47509\n",
      "50059\n",
      "27382\n",
      "35089\n",
      "53704\n",
      "50739\n",
      "38779\n",
      "50336\n",
      "46286\n",
      "50814\n",
      "49920\n",
      "50412\n",
      "25764\n",
      "25674\n",
      "49489\n",
      "39146\n",
      "35186\n",
      "53986\n",
      "37224\n",
      "50509\n",
      "50560\n",
      "25976\n",
      "46160\n",
      "52154\n",
      "50172\n",
      "54134\n",
      "52870\n",
      "27650\n",
      "52702\n",
      "46457\n",
      "39286\n",
      "48597\n",
      "46107\n",
      "34784\n",
      "51616\n",
      "39484\n",
      "53509\n",
      "53436\n",
      "48356\n",
      "50536\n",
      "48306\n",
      "48412\n",
      "46000\n",
      "27654\n",
      "49034\n",
      "53312\n",
      "48642\n",
      "51659\n",
      "46427\n",
      "49214\n",
      "46524\n",
      "49439\n",
      "54416\n",
      "48152\n",
      "49366\n",
      "50080\n",
      "46812\n",
      "47199\n",
      "53754\n",
      "25702\n",
      "52994\n",
      "54567\n",
      "52114\n",
      "50426\n",
      "53546\n",
      "55422\n",
      "27164\n",
      "53824\n",
      "55196\n",
      "27264\n",
      "55239\n",
      "25392\n",
      "50122\n",
      "22946\n",
      "42000\n",
      "52710\n",
      "53346\n",
      "27860\n",
      "27739\n",
      "53400\n",
      "55302\n",
      "90970\n",
      "90930\n",
      "90753\n",
      "91234\n",
      "90990\n"
     ]
    }
   ],
   "metadata": {}
  },
  {
   "cell_type": "code",
   "execution_count": 37,
   "source": [
    "import json \n",
    "json.dump(nominal_tt, open('../output/net_dump/vehroutes_new.json', 'w'))"
   ],
   "outputs": [],
   "metadata": {}
  },
  {
   "cell_type": "code",
   "execution_count": 23,
   "source": [
    "list(root[0])[0].get('exitTimes').split(' ')"
   ],
   "outputs": [
    {
     "output_type": "execute_result",
     "data": {
      "text/plain": [
       "['23111.00', '23224.00', '23274.00']"
      ]
     },
     "metadata": {},
     "execution_count": 23
    }
   ],
   "metadata": {}
  },
  {
   "cell_type": "code",
   "execution_count": 40,
   "source": [
    "new = json.load(open('../output/net_dump/lmbd2/traveltime_1_1_28800_57600_2_False.json'))\n",
    "old = json.load(open('../output/net_dump/lmbd2/traveltime_1_1_28800_57600_2_False_old.json'))\n",
    "change = 0\n",
    "total = 0\n",
    "for veh in new:\n",
    "    total += 1\n",
    "    if old[veh] != new[veh]:\n",
    "        change += 1\n"
   ],
   "outputs": [],
   "metadata": {}
  },
  {
   "cell_type": "code",
   "execution_count": 52,
   "source": [
    "from pathlib import Path\n",
    "sim_times = {}\n",
    "\n",
    "base_path = Path('../output/net_dump/lmbd1')\n",
    "for fn in base_path.glob('*.json'):\n",
    "    data = json.load(fn.open())\n",
    "    sim_times[str(fn)] = data['sim_time']\n",
    "\n"
   ],
   "outputs": [],
   "metadata": {}
  },
  {
   "cell_type": "code",
   "execution_count": 53,
   "source": [
    "import operator\n",
    "max(sim_times.items(), key=operator.itemgetter(1))[0]"
   ],
   "outputs": [
    {
     "output_type": "execute_result",
     "data": {
      "text/plain": [
       "'../output/net_dump/lmbd1/traveltime_55_1_57600_86400_1_False.json'"
      ]
     },
     "metadata": {},
     "execution_count": 53
    }
   ],
   "metadata": {}
  },
  {
   "cell_type": "code",
   "execution_count": 55,
   "source": [
    "sim_times['../output/net_dump/lmbd1/traveltime_55_1_57600_86400_1_False.json']"
   ],
   "outputs": [
    {
     "output_type": "execute_result",
     "data": {
      "text/plain": [
       "457.0282552242279"
      ]
     },
     "metadata": {},
     "execution_count": 55
    }
   ],
   "metadata": {}
  },
  {
   "cell_type": "code",
   "execution_count": 37,
   "source": [
    "import xml.etree.ElementTree as ET\n",
    "from pathlib import Path\n",
    "edge_name, start, end = '59_1', 57600, 86400\n",
    "lmbd = 1\n",
    "filename = Path(f'../output/net_dump/high_correlation/lmbd{lmbd}/traveltime_{edge_name}_{start}_{end}_{lmbd}_False.json.xml')\n",
    "tree = ET.parse(filename)\n",
    "root = tree.getroot()"
   ],
   "outputs": [],
   "metadata": {}
  },
  {
   "cell_type": "code",
   "execution_count": 38,
   "source": [
    "total_vehicles = []\n",
    "through_5_1 = []\n",
    "for vehicle in root.iter('vehicle'):\n",
    "    if float(vehicle.attrib['depart']) > start:\n",
    "        total_vehicles.append(vehicle.attrib['id'])\n",
    "        for route in vehicle:\n",
    "            edges = set(route.get('edges', default='').split(' '))\n",
    "            if edge_name in edges:\n",
    "                through_5_1.append(vehicle.attrib['id'])\n",
    "            "
   ],
   "outputs": [],
   "metadata": {}
  },
  {
   "cell_type": "code",
   "execution_count": 39,
   "source": [
    "through_5_1[9]"
   ],
   "outputs": [
    {
     "output_type": "execute_result",
     "data": {
      "text/plain": [
       "'92034'"
      ]
     },
     "metadata": {},
     "execution_count": 39
    }
   ],
   "metadata": {}
  },
  {
   "cell_type": "code",
   "execution_count": 8,
   "source": [
    "travel_times = {}"
   ],
   "outputs": [],
   "metadata": {}
  },
  {
   "cell_type": "code",
   "execution_count": 32,
   "source": [
    "#edge_name, start, end = '5_1', 57600, 86400\n",
    "edge_name, start, end = '59_1', 0, 10\n",
    "lmbd = 1\n",
    "filename = Path(f'../output/net_dump/high_correlation/lmbd{lmbd}/traveltime_{edge_name}_{start}_{end}_{lmbd}_False.json.xml')\n",
    "tree = ET.parse(filename)\n",
    "root = tree.getroot()\n",
    "for vehicle in root.iter('vehicle'):\n",
    "    #if vehicle.get('id') == '91950':\n",
    "    if vehicle.get('id') == '94766':\n",
    "        travel_times[(lmbd, start, end)] = float(vehicle.get('arrival')) - float(vehicle.get('depart'))\n"
   ],
   "outputs": [],
   "metadata": {}
  },
  {
   "cell_type": "code",
   "execution_count": 33,
   "source": [
    "travel_times"
   ],
   "outputs": [
    {
     "output_type": "execute_result",
     "data": {
      "text/plain": [
       "{(1, 57600, 86400): 105.0,\n",
       " (3, 57600, 86400): 2343.0,\n",
       " (9, 57600, 86400): 2349.0,\n",
       " (1, 0, 10): 104.0,\n",
       " (3, 0, 10): 562.0,\n",
       " (9, 0, 10): 570.0}"
      ]
     },
     "metadata": {},
     "execution_count": 33
    }
   ],
   "metadata": {}
  },
  {
   "cell_type": "code",
   "execution_count": null,
   "source": [],
   "outputs": [],
   "metadata": {}
  }
 ],
 "metadata": {
  "kernelspec": {
   "name": "python3",
   "display_name": "Python 3.7.3 64-bit ('flow': conda)"
  },
  "language_info": {
   "codemirror_mode": {
    "name": "ipython",
    "version": 3
   },
   "file_extension": ".py",
   "mimetype": "text/x-python",
   "name": "python",
   "nbconvert_exporter": "python",
   "pygments_lexer": "ipython3",
   "version": "3.7.3"
  },
  "interpreter": {
   "hash": "89191fd3da1258c2804e629e31a4581e325b5a77b2db86302b29351e6854b76b"
  }
 },
 "nbformat": 4,
 "nbformat_minor": 2
}