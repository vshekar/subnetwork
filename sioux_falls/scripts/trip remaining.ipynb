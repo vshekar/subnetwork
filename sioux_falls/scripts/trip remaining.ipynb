{
 "cells": [
  {
   "cell_type": "markdown",
   "metadata": {},
   "source": [
    "### Importing trip start times, to be used in calculations of both nominal and vulnerable data"
   ]
  },
  {
   "cell_type": "code",
   "execution_count": 1,
   "metadata": {
    "collapsed": true
   },
   "outputs": [],
   "source": [
    "trip_file = open('../trips/trip_combined.xml', 'r')\n",
    "from xml.etree import ElementTree as ET\n",
    "tree = ET.parse(trip_file)\n",
    "root = tree.getroot()\n",
    "start_times = {}\n",
    "for trip in root:\n",
    "    start_times[trip.attrib['id']] = int(trip.attrib['depart'])"
   ]
  },
  {
   "cell_type": "markdown",
   "metadata": {},
   "source": [
    "### Importing travel times for nominal and vul"
   ]
  },
  {
   "cell_type": "code",
   "execution_count": 1,
   "metadata": {},
   "outputs": [],
   "source": [
    "import json\n",
    "#with open('../output/net_dump/lmbd8/traveltime_55_1_28800_57600_8_False.json') as f:\n",
    "with open('../output/net_dump/lmbd100/traveltime_55_1_28800_57600_100_False.json') as f:\n",
    "    high_vul_tt = json.load(f)\n",
    "\n",
    "#with open('../output/net_dump/lmbd100/traveltime_1_1_0_0_100_True.json') as f:\n",
    "with open('../output/net_dump/lmbd100/traveltime_55_1_0_0_100_True.json') as f:\n",
    "    nom_tt = json.load(f)\n",
    "start_times_nom = {}\n",
    "start_times_vul = {}"
   ]
  },
  {
   "cell_type": "markdown",
   "metadata": {},
   "source": [
    "### Calculate end time for each trip for nominal and vul"
   ]
  },
  {
   "cell_type": "code",
   "execution_count": 2,
   "metadata": {},
   "outputs": [],
   "source": [
    "end_nom = {}\n",
    "end_high_vul = {}\n",
    "unequal_trips = 0\n",
    "for trip in nom_tt:\n",
    "    if trip != 'sim_time':\n",
    "        start_times_nom[trip] = int(nom_tt[trip][1])\n",
    "        start_times_vul[trip] = int(high_vul_tt[trip][1])\n",
    "        end_nom[trip] = int(nom_tt[trip][0])\n",
    "        end_high_vul[trip] = int(high_vul_tt[trip][0])\n"
   ]
  },
  {
   "cell_type": "markdown",
   "metadata": {},
   "source": [
    "### Count the number of trips that END at each time step"
   ]
  },
  {
   "cell_type": "code",
   "execution_count": 3,
   "metadata": {},
   "outputs": [],
   "source": [
    "from collections import defaultdict\n",
    "nom_trips_left = defaultdict(int)\n",
    "vul_trips_left = defaultdict(int)\n",
    "for trip in end_nom:\n",
    "    nom_trips_left[end_nom[trip]] += 1\n",
    "    vul_trips_left[end_high_vul[trip]] += 1"
   ]
  },
  {
   "cell_type": "markdown",
   "metadata": {},
   "source": [
    "### Create a time series for trips completed for nominal and vul"
   ]
  },
  {
   "cell_type": "code",
   "execution_count": 4,
   "metadata": {},
   "outputs": [],
   "source": [
    "nom_trip_vec = []\n",
    "total_trips = len(end_nom)\n",
    "\n",
    "for t in range(max(nom_trips_left.keys())):\n",
    "    if t in nom_trips_left:\n",
    "        total_trips = total_trips - nom_trips_left[t]\n",
    "    nom_trip_vec.append(total_trips)"
   ]
  },
  {
   "cell_type": "code",
   "execution_count": 5,
   "metadata": {
    "collapsed": true
   },
   "outputs": [],
   "source": [
    "vul_trip_vec = []\n",
    "total_trips = len(end_high_vul)\n",
    "for t in range(max(vul_trips_left.keys())):\n",
    "    if t in vul_trips_left:\n",
    "        total_trips = total_trips - vul_trips_left[t]\n",
    "    vul_trip_vec.append(total_trips)"
   ]
  },
  {
   "cell_type": "code",
   "execution_count": 6,
   "metadata": {},
   "outputs": [
    {
     "name": "stdout",
     "output_type": "stream",
     "text": [
      "Using matplotlib backend: Qt5Agg\n"
     ]
    }
   ],
   "source": [
    "from matplotlib import pyplot as plt\n",
    "%matplotlib "
   ]
  },
  {
   "cell_type": "markdown",
   "metadata": {},
   "source": [
    "### Create plots for nominal and vulnerable trips completed"
   ]
  },
  {
   "cell_type": "code",
   "execution_count": 16,
   "metadata": {},
   "outputs": [
    {
     "data": {
      "text/plain": [
       "[<matplotlib.lines.Line2D at 0xc15b080>]"
      ]
     },
     "execution_count": 16,
     "metadata": {},
     "output_type": "execute_result"
    }
   ],
   "source": [
    "plt.plot(nom_trip_vec, 'b', linewidth=2)\n",
    "plt.plot(vul_trip_vec, 'r--', linewidth=2)"
   ]
  },
  {
   "cell_type": "markdown",
   "metadata": {},
   "source": [
    "### Count trips currently on network for nominal and vul"
   ]
  },
  {
   "cell_type": "code",
   "execution_count": 13,
   "metadata": {},
   "outputs": [],
   "source": [
    "nom_current_trips = defaultdict(int)\n",
    "vul_current_trips = defaultdict(int)\n",
    "for trip in end_nom:\n",
    "    for t in range(start_times_nom[trip], end_nom[trip]):\n",
    "        nom_current_trips[t] += 1\n",
    "for trip in end_high_vul:\n",
    "    for t in range(start_times_vul[trip], end_high_vul[trip]):\n",
    "        vul_current_trips[t] += 1\n",
    "\n",
    "nom_curr_trips_vec = []\n",
    "vul_curr_trips_vec = []\n",
    "for t in range(max(nom_current_trips.keys())):\n",
    "    if t in nom_current_trips:\n",
    "        nom_curr_trips_vec.append(nom_current_trips[t])\n",
    "    else:\n",
    "        nom_curr_trips_vec.append(0)\n",
    "\n",
    "for t in range(max(vul_current_trips.keys())):\n",
    "    if t in vul_current_trips:\n",
    "        vul_curr_trips_vec.append(vul_current_trips[t])\n",
    "    else:\n",
    "        vul_curr_trips_vec.append(0)\n",
    "\n"
   ]
  },
  {
   "cell_type": "code",
   "execution_count": 17,
   "metadata": {},
   "outputs": [
    {
     "data": {
      "text/plain": [
       "[<matplotlib.lines.Line2D at 0xae6b860>]"
      ]
     },
     "execution_count": 17,
     "metadata": {},
     "output_type": "execute_result"
    }
   ],
   "source": [
    "plt.plot(nom_curr_trips_vec, 'b', linewidth=2)\n",
    "plt.plot(vul_curr_trips_vec, 'r--', linewidth=2)"
   ]
  },
  {
   "cell_type": "code",
   "execution_count": null,
   "metadata": {
    "collapsed": true
   },
   "outputs": [],
   "source": []
  }
 ],
 "metadata": {
  "kernelspec": {
   "display_name": "Python 3",
   "language": "python",
   "name": "python3"
  },
  "language_info": {
   "codemirror_mode": {
    "name": "ipython",
    "version": 3
   },
   "file_extension": ".py",
   "mimetype": "text/x-python",
   "name": "python",
   "nbconvert_exporter": "python",
   "pygments_lexer": "ipython3",
   "version": "3.6.6"
  }
 },
 "nbformat": 4,
 "nbformat_minor": 2
}
