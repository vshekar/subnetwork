{
 "cells": [
  {
   "cell_type": "code",
   "execution_count": 1,
   "source": [
    "import xml.etree.ElementTree as ET"
   ],
   "outputs": [],
   "metadata": {
    "collapsed": true
   }
  },
  {
   "cell_type": "code",
   "execution_count": 2,
   "source": [
    "raw_data = ET.parse('../scenario/vehroute-output.xml')\n",
    "data = {}"
   ],
   "outputs": [],
   "metadata": {
    "collapsed": true
   }
  },
  {
   "cell_type": "code",
   "execution_count": 6,
   "source": [
    "def parse_route(point, route):\n",
    "    if 'exitTimes' in route.attrib:\n",
    "        point['edges'] = [edge for edge in route.attrib['edges'].split()]\n",
    "        point['exitTimes'] = [int(float(time)) for time in route.attrib['exitTimes'].split()]\n",
    "    return point\n",
    "\n",
    "root = raw_data.getroot()\n",
    "\n",
    "for veh in root:\n",
    "    point = {}\n",
    "    point['type'] = veh.attrib['type']\n",
    "    point['depart'] = int(float(veh.attrib['depart']))\n",
    "    point['arrival'] = int(float(veh.attrib['arrival']))\n",
    "    for r in veh:\n",
    "        if r.tag != 'route':\n",
    "            for route in r:\n",
    "                point = parse_route(point, route)\n",
    "        else:\n",
    "            point = parse_route(point, r)\n",
    "    data[veh.attrib['id']] = point\n",
    "                    "
   ],
   "outputs": [],
   "metadata": {}
  },
  {
   "cell_type": "code",
   "execution_count": 8,
   "source": [
    "import json\n",
    "json.dumps('vehroutes.json')"
   ],
   "outputs": [
    {
     "output_type": "execute_result",
     "data": {
      "text/plain": [
       "'\"vehroutes.json\"'"
      ]
     },
     "metadata": {},
     "execution_count": 8
    }
   ],
   "metadata": {}
  },
  {
   "cell_type": "code",
   "execution_count": 10,
   "source": [
    "with open('vehroutes.json', 'w') as f:\n",
    "    json.dump(data, f)"
   ],
   "outputs": [],
   "metadata": {}
  },
  {
   "cell_type": "code",
   "execution_count": 1,
   "source": [
    "#for veh in data:\n",
    "#    print(\"{} : {}, {}, {}, {}, {}\".format(veh, data[veh]['edges'], data[veh]['exitTimes'], data[veh]['depart'], data[veh]['arrival'], data[veh]['type']))\n",
    "    "
   ],
   "outputs": [],
   "metadata": {}
  },
  {
   "cell_type": "markdown",
   "source": [
    "### Network analysis"
   ],
   "metadata": {}
  },
  {
   "cell_type": "code",
   "execution_count": 3,
   "source": [
    "import sumolib\n",
    "net = sumolib.net.readNet('../scenario/lust.net.xml')"
   ],
   "outputs": [],
   "metadata": {}
  },
  {
   "cell_type": "code",
   "execution_count": 4,
   "source": [
    "edges = net.getEdges()\n",
    "print(len(edges))"
   ],
   "outputs": [
    {
     "output_type": "stream",
     "name": "stdout",
     "text": [
      "5779\n"
     ]
    }
   ],
   "metadata": {}
  },
  {
   "cell_type": "code",
   "execution_count": 6,
   "source": [
    "edgeHighways = [edge for edge in edges if edge.getLaneNumber() > 2]"
   ],
   "outputs": [],
   "metadata": {}
  },
  {
   "cell_type": "code",
   "execution_count": 7,
   "source": [
    "len(edgeHighways)"
   ],
   "outputs": [
    {
     "output_type": "execute_result",
     "data": {
      "text/plain": [
       "823"
      ]
     },
     "metadata": {},
     "execution_count": 7
    }
   ],
   "metadata": {}
  },
  {
   "cell_type": "code",
   "execution_count": 3,
   "source": [
    "import json\n",
    "lambdas_file = json.load(open('lambdas.json'))"
   ],
   "outputs": [],
   "metadata": {}
  },
  {
   "cell_type": "code",
   "execution_count": 4,
   "source": [
    "total_lambda = 0\n",
    "max_lambda = 0\n",
    "min_lambda = float(\"inf\")\n",
    "for edge in lambdas_file:\n",
    "    total_lambda += lambdas_file[edge]\n",
    "    if lambdas_file[edge] > max_lambda:\n",
    "        max_lambda = lambdas_file[edge]\n",
    "    if lambdas_file[edge] < min_lambda:\n",
    "        min_lambda = lambdas_file[edge]"
   ],
   "outputs": [],
   "metadata": {}
  },
  {
   "cell_type": "code",
   "execution_count": 5,
   "source": [
    "print(total_lambda/len(lambdas_file))\n",
    "print(max_lambda)\n",
    "print(min_lambda)\n"
   ],
   "outputs": [
    {
     "output_type": "stream",
     "name": "stdout",
     "text": [
      "46.26245443499393\n",
      "62\n",
      "36\n"
     ]
    }
   ],
   "metadata": {}
  },
  {
   "cell_type": "code",
   "execution_count": 11,
   "source": [
    "total_lambda * 3"
   ],
   "outputs": [
    {
     "output_type": "execute_result",
     "data": {
      "text/plain": [
       "114222"
      ]
     },
     "metadata": {},
     "execution_count": 11
    }
   ],
   "metadata": {}
  },
  {
   "cell_type": "markdown",
   "source": [
    "## Counting number of trips per time step for plot"
   ],
   "metadata": {}
  },
  {
   "cell_type": "code",
   "execution_count": 1,
   "source": [
    "from xml.etree import ElementTree as ET"
   ],
   "outputs": [],
   "metadata": {}
  },
  {
   "cell_type": "code",
   "execution_count": 2,
   "source": [
    "tree1 = ET.parse('../scenario/DUARoutes/local.0.rou.xml')\n",
    "tree2 = ET.parse('../scenario/DUARoutes/local.1.rou.xml')\n",
    "tree3 = ET.parse('../scenario/DUARoutes/local.2.rou.xml')"
   ],
   "outputs": [],
   "metadata": {}
  },
  {
   "cell_type": "code",
   "execution_count": 3,
   "source": [
    "root1 = tree1.getroot()\n",
    "root2 = tree2.getroot()\n",
    "root3 = tree3.getroot()"
   ],
   "outputs": [],
   "metadata": {}
  },
  {
   "cell_type": "code",
   "execution_count": 4,
   "source": [
    "trips = [0 for i in range(24*3600)]"
   ],
   "outputs": [],
   "metadata": {}
  },
  {
   "cell_type": "code",
   "execution_count": 5,
   "source": [
    "for veh in root1:\n",
    "    trips[int(float(veh.attrib['depart']))] += 1"
   ],
   "outputs": [],
   "metadata": {}
  },
  {
   "cell_type": "code",
   "execution_count": 6,
   "source": [
    "for veh in root2:\n",
    "    trips[int(float(veh.attrib['depart']))] += 1\n",
    "for veh in root3:\n",
    "    trips[int(float(veh.attrib['depart']))] += 1"
   ],
   "outputs": [],
   "metadata": {}
  },
  {
   "cell_type": "code",
   "execution_count": 7,
   "source": [
    "total_trips = 0\n",
    "for t in trips:\n",
    "    total_trips += trips[t]\n",
    "print(total_trips)"
   ],
   "outputs": [
    {
     "output_type": "stream",
     "name": "stdout",
     "text": [
      "40886\n"
     ]
    }
   ],
   "metadata": {}
  },
  {
   "cell_type": "code",
   "execution_count": 15,
   "source": [
    " %matplotlib qt"
   ],
   "outputs": [],
   "metadata": {}
  },
  {
   "cell_type": "code",
   "execution_count": 34,
   "source": [
    "import matplotlib.pyplot as plt\n",
    "import numpy as np"
   ],
   "outputs": [],
   "metadata": {}
  },
  {
   "cell_type": "code",
   "execution_count": 20,
   "source": [
    "plt.plot([i for i in range(len(trips))], trips)\n",
    "plt.show()"
   ],
   "outputs": [],
   "metadata": {}
  },
  {
   "cell_type": "code",
   "execution_count": 29,
   "source": [
    "trips_avg = []\n",
    "for i, trip in enumerate(trips[200:-200]):\n",
    "    trips_avg.append(800*sum(trips[i-200:i+200])/400)\n",
    "    "
   ],
   "outputs": [],
   "metadata": {}
  },
  {
   "cell_type": "code",
   "execution_count": 32,
   "source": [
    "len(trips_avg)"
   ],
   "outputs": [
    {
     "output_type": "execute_result",
     "data": {
      "text/plain": [
       "86000"
      ]
     },
     "metadata": {},
     "execution_count": 32
    }
   ],
   "metadata": {}
  },
  {
   "cell_type": "code",
   "execution_count": 42,
   "source": [
    "yaxis = np.linspace(0,24, len(trips_avg))\n",
    "fontsize = 42\n",
    "plt.plot(yaxis, trips_avg)\n",
    "plt.grid(True)\n",
    "plt.xlabel('Time of Day (seconds)', fontsize=fontsize)\n",
    "plt.ylabel('Running Vehicles', fontsize=fontsize)\n",
    "plt.xticks([i for i in range(25) if i%2 == 0],fontsize=fontsize)\n",
    "plt.yticks(fontsize=fontsize)\n",
    "plt.show()"
   ],
   "outputs": [],
   "metadata": {}
  },
  {
   "cell_type": "markdown",
   "source": [
    "## Calculating vulnerability ranking of full simulation"
   ],
   "metadata": {}
  },
  {
   "cell_type": "code",
   "execution_count": 43,
   "source": [
    "from xml.etree import ElementTree as ET"
   ],
   "outputs": [],
   "metadata": {}
  },
  {
   "cell_type": "code",
   "execution_count": 44,
   "source": [
    "tree = ET.parse('../output/vehroutes.xml')"
   ],
   "outputs": [],
   "metadata": {}
  },
  {
   "cell_type": "code",
   "execution_count": 45,
   "source": [
    "root = tree.getroot()"
   ],
   "outputs": [],
   "metadata": {}
  },
  {
   "cell_type": "code",
   "execution_count": 46,
   "source": [
    "nominal_data = {}\n",
    "for vehicle in root:\n",
    "    nominal_data[vehicle.attrib['id']] = {'start': int(float(vehicle.attrib['depart'])),\n",
    "                                         'end': int(float(vehicle.attrib['arrival']))}"
   ],
   "outputs": [],
   "metadata": {}
  },
  {
   "cell_type": "code",
   "execution_count": 48,
   "source": [
    "travel_time_nom = {}\n",
    "for v in nominal_data:\n",
    "    travel_time_nom[v] = nominal_data[v]['end'] - nominal_data[v]['start']"
   ],
   "outputs": [],
   "metadata": {}
  },
  {
   "cell_type": "code",
   "execution_count": 52,
   "source": [
    "denom = sum(travel_time_nom.values())"
   ],
   "outputs": [],
   "metadata": {}
  },
  {
   "cell_type": "code",
   "execution_count": null,
   "source": [],
   "outputs": [],
   "metadata": {}
  }
 ],
 "metadata": {
  "kernelspec": {
   "name": "python3",
   "display_name": "Python 3.7.3 64-bit ('flow': conda)"
  },
  "language_info": {
   "codemirror_mode": {
    "name": "ipython",
    "version": 3
   },
   "file_extension": ".py",
   "mimetype": "text/x-python",
   "name": "python",
   "nbconvert_exporter": "python",
   "pygments_lexer": "ipython3",
   "version": "3.7.3"
  },
  "interpreter": {
   "hash": "89191fd3da1258c2804e629e31a4581e325b5a77b2db86302b29351e6854b76b"
  }
 },
 "nbformat": 4,
 "nbformat_minor": 2
}